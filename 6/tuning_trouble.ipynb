{
 "cells": [
  {
   "cell_type": "markdown",
   "metadata": {},
   "source": [
    "https://adventofcode.com/2022/day/6"
   ]
  },
  {
   "cell_type": "code",
   "execution_count": 28,
   "metadata": {},
   "outputs": [],
   "source": [
    "f = open(\"input.txt\", \"r\")\n",
    "\n",
    "data = \"\"\n",
    "\n",
    "while ! eof(f)\n",
    "\ts = readline(f)\n",
    "\tdata = s\n",
    "end\n",
    "\n",
    "close(f)"
   ]
  },
  {
   "cell_type": "code",
   "execution_count": 42,
   "metadata": {
    "notebookRunGroups": {
     "groupValue": "2"
    }
   },
   "outputs": [
    {
     "data": {
      "text/plain": [
       "1100"
      ]
     },
     "metadata": {},
     "output_type": "display_data"
    }
   ],
   "source": [
    "# calculates what index the data string has a SubString unique characters of input size \n",
    "function getSignalIndex(data, size)\n",
    "\t# loops through the index of the data string\n",
    "\tfor i = 1:length(data)\n",
    "\t\tleft = i # the starting index of the message\n",
    "\t\tright = i + size - 1 # the ending index of the message (the distant between left and right is the size)\n",
    "\t\tmessage = SubString(data, left:right) #  the substring between left and right\n",
    "\t\t# converts the message into a Set (unique collection of characters)\n",
    "\t\t# duplcate are removed when converting into a set\n",
    "\t\tmessageSet = Set(window) \n",
    "\t\t\n",
    "\t\t# if no characters are removed from the message the length of the message will be the same as the size\n",
    "\t\tif length(messageSet) == size\n",
    "\t\t\treturn right\n",
    "\t\t\tbreak\n",
    "\t\tend\n",
    "\tend\n",
    "end\n",
    "\n",
    "getSignalIndex(data, 4)\n"
   ]
  },
  {
   "cell_type": "code",
   "execution_count": 40,
   "metadata": {},
   "outputs": [
    {
     "data": {
      "text/plain": [
       "2421"
      ]
     },
     "metadata": {},
     "output_type": "display_data"
    }
   ],
   "source": [
    "# literal just a different size input\n",
    "getSignalIndex(data, 14)"
   ]
  }
 ],
 "metadata": {
  "kernelspec": {
   "display_name": "Julia 1.8.3",
   "language": "julia",
   "name": "julia-1.8"
  },
  "language_info": {
   "file_extension": ".jl",
   "mimetype": "application/julia",
   "name": "julia",
   "version": "1.8.3"
  },
  "orig_nbformat": 4,
  "vscode": {
   "interpreter": {
    "hash": "98f14b60b85110bc66c9772da0405b407200bb6d71b0a740e464ca8ff301d72b"
   }
  }
 },
 "nbformat": 4,
 "nbformat_minor": 2
}
