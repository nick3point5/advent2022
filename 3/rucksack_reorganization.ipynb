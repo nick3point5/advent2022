{
 "cells": [
  {
   "cell_type": "markdown",
   "metadata": {},
   "source": [
    "https://adventofcode.com/2022/day/3"
   ]
  },
  {
   "cell_type": "code",
   "execution_count": 1,
   "metadata": {},
   "outputs": [],
   "source": [
    "f = open(\"input.txt\", \"r\")\n",
    "\n",
    "data = String[]\n",
    "\n",
    "while ! eof(f)\n",
    "\ts = readline(f)\n",
    "\tpush!(data, s)\n",
    "end\n",
    "\n",
    "close(f)"
   ]
  },
  {
   "cell_type": "code",
   "execution_count": 2,
   "metadata": {},
   "outputs": [
    {
     "data": {
      "text/plain": [
       "7742"
      ]
     },
     "execution_count": 2,
     "metadata": {},
     "output_type": "execute_result"
    }
   ],
   "source": [
    "# creates a dictionary/hashmap with character and their priority\n",
    "function generatePriorityMap()\n",
    "\tpriorityMap = Dict()\n",
    "\titems = \"abcdefghijklmnopqrstuvwxyzABCDEFGHIJKLMNOPQRSTUVWXYZ\"\n",
    "\tvalue = 1\n",
    "\t\n",
    "\tfor i in items\n",
    "\t\tpriorityMap[i] = value\n",
    "\t\tvalue += 1\n",
    "\tend\n",
    "\n",
    "\treturn priorityMap\n",
    "end\n",
    "\n",
    "# finds the item both compartments have in common\n",
    "function findItem(compartment1, compartment2)\n",
    "\tfor item in compartment1\n",
    "\t\tif item in compartment2\n",
    "\t\t\treturn item\n",
    "\t\tend\n",
    "\tend\n",
    "end\n",
    "\n",
    "# calculates the priority of the rucksack\n",
    "function getRucksackPriority(rucksack, priorityMap) \n",
    "\t# bit shifts the integer left 1 (halves it rounding down to the next integer)\n",
    "\thalf = length(rucksack)>>1\n",
    "\n",
    "\t# split the rucksack into 2 halves\n",
    "\tcompartment1 = SubString(rucksack,1:half) # first half\n",
    "\tcompartment2 = SubString(rucksack,half+1) # second half\n",
    "\t\n",
    "\t# finds the common item\n",
    "\titem = findItem(compartment1, compartment2)\n",
    "\tpriority = priorityMap[item] # gets the priority from the priority map\n",
    "\treturn priority\n",
    "end\n",
    "\n",
    "function getRucksackPrioritySum(data)\n",
    "\tpriorityMap = generatePriorityMap()\n",
    "\tsum = 0\n",
    "\n",
    "\tfor rucksack in data\n",
    "\t\tpriority = getRucksackPriority(rucksack, priorityMap)\n",
    "\t\tsum += priority\n",
    "\tend\n",
    "\n",
    "\treturn sum\n",
    "end\n",
    "\n",
    "getRucksackPrioritySum(data)"
   ]
  },
  {
   "cell_type": "code",
   "execution_count": 4,
   "metadata": {},
   "outputs": [
    {
     "data": {
      "text/plain": [
       "2276"
      ]
     },
     "execution_count": 4,
     "metadata": {},
     "output_type": "execute_result"
    }
   ],
   "source": [
    "\n",
    "function getGroups(data)\n",
    "\tgroups = Array{String}[]\n",
    "\n",
    "\t# removes the first 3 rucksacks and puts them into the groups array\n",
    "\t# keeps removing until data is empty\n",
    "\twhile length(data) > 0\n",
    "\t\tgroup = splice!(data, 1:3)\n",
    "\t\tpush!(groups,group)\n",
    "\tend\n",
    "\n",
    "\treturn groups\n",
    "end\n",
    "\n",
    "function getGroupItem(group) \n",
    "\n",
    "\t# separates rucksacks from group\n",
    "\trucksack1,rucksack2,rucksack3 = group\n",
    "\n",
    "\tfor item in rucksack1\n",
    "\t\t# if the items are in all three return that item\n",
    "\t\tif item in rucksack2 && item in rucksack3\n",
    "\t\t\treturn item\n",
    "\t\tend\n",
    "\tend\n",
    "\t## NOTE: performance could be improve using the \"Set\" data structure\n",
    "end\n",
    "\n",
    "function getGroupPrioritySum(data)\n",
    "\tdata = deepcopy(data) # create a copy of the data to prevent mutations\n",
    "\tpriorityMap = generatePriorityMap()\n",
    "\tgroups = getGroups(data)\n",
    "\tsum = 0\n",
    "\n",
    "\tfor group in groups\n",
    "\t\titem = getGroupItem(group)\n",
    "\t\tpriority = priorityMap[item]\n",
    "\t\tsum += priority\n",
    "\tend\n",
    "\n",
    "\treturn sum\n",
    "end\n",
    "\n",
    "getGroupPrioritySum(data)"
   ]
  }
 ],
 "metadata": {
  "kernelspec": {
   "display_name": "Julia 1.8.3",
   "language": "julia",
   "name": "julia-1.8"
  },
  "language_info": {
   "file_extension": ".jl",
   "mimetype": "application/julia",
   "name": "julia",
   "version": "1.8.3"
  },
  "orig_nbformat": 4,
  "vscode": {
   "interpreter": {
    "hash": "98f14b60b85110bc66c9772da0405b407200bb6d71b0a740e464ca8ff301d72b"
   }
  }
 },
 "nbformat": 4,
 "nbformat_minor": 2
}
