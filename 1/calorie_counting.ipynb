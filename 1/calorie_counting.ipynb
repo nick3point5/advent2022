{
 "cells": [
  {
   "cell_type": "markdown",
   "metadata": {},
   "source": [
    "https://adventofcode.com/2022/day/1"
   ]
  },
  {
   "cell_type": "code",
   "execution_count": 1,
   "metadata": {},
   "outputs": [],
   "source": [
    "f = open(\"input.txt\", \"r\") # opening input.txt file as an io stream\n",
    "\n",
    "data = Int[] # declare an array of Integers\n",
    "\n",
    "# loop through text file line by line until end of file (eof)\n",
    "while ! eof(f)\n",
    "\ts = readline(f) # getting line as a string\n",
    "\tcal = 0\n",
    "\n",
    "\t# if the line isn't blank, parse the string into a number otherwise cal = 0\n",
    "\tif s != \"\"\n",
    "\t\tcal = parse(Int, s)\n",
    "\tend\n",
    "\n",
    "\tpush!(data, cal)# push the cal into the data array\n",
    "end\n",
    "\n",
    "close(f) # close io stream"
   ]
  },
  {
   "cell_type": "code",
   "execution_count": 2,
   "metadata": {},
   "outputs": [],
   "source": [
    "function getHighestCalories(data)\n",
    "\tcurrent = 0 # variable to keep a running total of calories on the current elf\n",
    "\tmax = 0 # the highest elf's calorie count so far\n",
    "\n",
    "\t# loop through each line of data\n",
    "\tfor cal in data\n",
    "\t\t# if cal isn't 0 we are still on the same elf\n",
    "\t\t# elves are separated by 0 in the array\n",
    "\t\tif cal != 0\n",
    "\t\t\tcurrent += cal\n",
    "\t\telse\n",
    "\t\t\t# if the final total of the current elf is greater than the previous highest replace them\n",
    "\t\t\tif current > max\n",
    "\t\t\t\tmax = current\n",
    "\t\t\tend\n",
    "\t\t\t# reset current total for the next elf\n",
    "\t\t\tcurrent = 0\n",
    "\t\tend\n",
    "\tend\n",
    "\n",
    "end\n",
    "\n",
    "getHighestCalories(data)"
   ]
  },
  {
   "cell_type": "code",
   "execution_count": 4,
   "metadata": {},
   "outputs": [
    {
     "data": {
      "text/plain": [
       "200116"
      ]
     },
     "execution_count": 4,
     "metadata": {},
     "output_type": "execute_result"
    }
   ],
   "source": [
    "function getHighest3Calories(data)\n",
    "\telves = Int[] # this time we are keeping track of the elves in an array\n",
    "\tcurrent = 0\n",
    "\n",
    "\t# the same as before but we are pushing the current elf into the array after summing\n",
    "\tfor cal in data\n",
    "\t\tif cal != 0\n",
    "\t\t\tcurrent += cal\n",
    "\t\telse\n",
    "\t\t\tpush!(elves, current)\n",
    "\t\t\tcurrent = 0\n",
    "\t\tend\n",
    "\tend\n",
    "\n",
    "\t# sort the array from highest -> lowest\n",
    "\tsort!(elves, rev=true)\n",
    "\n",
    "\t# add the first 3 elves\n",
    "\tmax3 = sum(elves[1:3])\n",
    "\n",
    "\treturn max3\n",
    "end\n",
    "\n",
    "getHighest3Calories(data)"
   ]
  }
 ],
 "metadata": {
  "kernelspec": {
   "display_name": "Julia 1.8.3",
   "language": "julia",
   "name": "julia-1.8"
  },
  "language_info": {
   "file_extension": ".jl",
   "mimetype": "application/julia",
   "name": "julia",
   "version": "1.8.3"
  },
  "orig_nbformat": 4
 },
 "nbformat": 4,
 "nbformat_minor": 2
}
