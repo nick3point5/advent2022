{
 "cells": [
  {
   "cell_type": "code",
   "execution_count": 67,
   "metadata": {},
   "outputs": [],
   "source": [
    "f = open(\"input.txt\", \"r\")\n",
    "\n",
    "s = read(f, String)\n",
    "\n",
    "#split data by new line or space\n",
    "data = split(s,r\"\\n| \")\n",
    "\n",
    "close(f)"
   ]
  },
  {
   "cell_type": "code",
   "execution_count": 87,
   "metadata": {},
   "outputs": [
    {
     "data": {
      "text/plain": [
       "13720"
      ]
     },
     "metadata": {},
     "output_type": "display_data"
    }
   ],
   "source": [
    "# check if the cycle is in the cycle list and pushes the register into the signals array\n",
    "function checkCycle(signals, cycle_list, cycle, register)\n",
    "\tif length( cycle_list)> 0 && cycle === cycle_list[1]\n",
    "\t\tpush!(signals, popfirst!(cycle_list)*register)\n",
    "\tend\n",
    "end\n",
    "\n",
    "function getSignal(data)\n",
    "\tcycle_list = collect(20:40:220) # an array of cycles we are watching\n",
    "\tcycle = 1\n",
    "\tregister = 1\n",
    "\n",
    "\tsignals = []\n",
    "\n",
    "\tfor instruction in data\n",
    "\t\tcheckCycle(signals, cycle_list, cycle, register)\n",
    "\n",
    "\t\t# if the instruction is a number add it to the register\n",
    "\t\tif match(r\"\\d\",instruction) !== nothing\n",
    "\t\t\tn = parse(Int, instruction)\n",
    "\t\t\tregister += n\n",
    "\t\tend\n",
    "\n",
    "\t\tcycle+=1\n",
    "\tend\n",
    "\n",
    "\treturn sum(signals)\n",
    "end\n",
    "\n",
    "getSignal(data)"
   ]
  },
  {
   "cell_type": "code",
   "execution_count": 98,
   "metadata": {},
   "outputs": [
    {
     "name": "stdout",
     "output_type": "stream",
     "text": [
      "⬜⬜⬜⬜⬛⬜⬜⬜⬛⬛⬜⬛⬛⬜⬛⬜⬜⬜⬛⬛⬜⬛⬛⬜⬛⬜⬜⬜⬜⬛⬛⬜⬜⬛⬛⬜⬛⬛⬜⬜\n",
      "⬜⬛⬛⬛⬛⬜⬛⬛⬜⬛⬜⬛⬛⬜⬛⬜⬛⬛⬜⬛⬜⬛⬛⬜⬛⬛⬛⬛⬜⬛⬜⬛⬛⬜⬛⬜⬛⬛⬜⬛\n",
      "⬜⬜⬜⬛⬛⬜⬜⬜⬛⬛⬜⬛⬛⬜⬛⬜⬛⬛⬜⬛⬜⬜⬜⬜⬛⬛⬛⬜⬛⬛⬜⬛⬛⬛⬛⬜⬜⬜⬜⬛\n",
      "⬜⬛⬛⬛⬛⬜⬛⬛⬜⬛⬜⬛⬛⬜⬛⬜⬜⬜⬛⬛⬜⬛⬛⬜⬛⬛⬜⬛⬛⬛⬜⬛⬛⬛⬛⬜⬛⬛⬜⬜\n",
      "⬜⬛⬛⬛⬛⬜⬛⬛⬜⬛⬜⬛⬛⬜⬛⬜⬛⬜⬛⬛⬜⬛⬛⬜⬛⬜⬛⬛⬛⬛⬜⬛⬛⬜⬛⬜⬛⬛⬜⬛\n",
      "⬜⬛⬛⬛⬛⬜⬜⬜⬛⬛⬛⬜⬜⬛⬛⬜⬛⬛⬜⬛⬜⬛⬛⬜⬛⬜⬜⬜⬜⬛⬛⬜⬜⬛⬛⬜⬛⬛⬜⬛\n",
      "⬛"
     ]
    }
   ],
   "source": [
    "function checkPixel(cycle, x)\n",
    "\tsprite_position = x:x+2 # a range where the sprite is\n",
    "\tif cycle%40 in sprite_position\n",
    "\t\tprint(\"⬜\") # replaced the ascii with emojis to read easier\n",
    "\telse\n",
    "\t\tprint(\"⬛\")\n",
    "\tend\n",
    "\t\n",
    "\t# every 40th cycle print a new line\n",
    "\tif cycle%40 === 0\n",
    "\t\tprint(\"\\n\")\n",
    "\tend\n",
    "end\n",
    "\n",
    "function getImage(data)\n",
    "\tcycle = 1\n",
    "\tx = 1\n",
    "\n",
    "\tsignals = []\n",
    "\n",
    "\tfor instruction in data\n",
    "\t\t# checks if the sprite is in the cycle and prints accordingly\n",
    "\t\tcheckPixel(cycle, x)\n",
    "\n",
    "\t\tif match(r\"\\d\",instruction) !== nothing\n",
    "\t\t\tn = parse(Int, instruction)\n",
    "\t\t\tx += n\n",
    "\t\tend\n",
    "\n",
    "\t\tcycle+=1\n",
    "\tend\n",
    "end\n",
    "\n",
    "getImage(data)"
   ]
  }
 ],
 "metadata": {
  "kernelspec": {
   "display_name": "Julia 1.8.3",
   "language": "julia",
   "name": "julia-1.8"
  },
  "language_info": {
   "file_extension": ".jl",
   "mimetype": "application/julia",
   "name": "julia",
   "version": "1.8.3"
  },
  "orig_nbformat": 4,
  "vscode": {
   "interpreter": {
    "hash": "e3e954f009989bad90b77ff660bb2a17da31348d0211c3dfa16a355927789538"
   }
  }
 },
 "nbformat": 4,
 "nbformat_minor": 2
}
