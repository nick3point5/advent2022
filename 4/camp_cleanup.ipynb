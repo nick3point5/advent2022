{
 "cells": [
  {
   "cell_type": "code",
   "execution_count": 1,
   "metadata": {},
   "outputs": [],
   "source": [
    "f = open(\"input.txt\", \"r\")\n",
    "\n",
    "data = Array{Array{Int32}}[]\n",
    "\n",
    "while ! eof(f)\n",
    "\ts = readline(f)\n",
    "\telves = split(s,\",\") # splits the elves paired elves\n",
    "\telvesArea = Array{Int32}[]\n",
    "\tfor elf in elves\n",
    "\t\tarea = split(elf,\"-\") # splits the start and end area a single elf cleans\n",
    "\t\tareaInt = map((x -> parse(Int32, x)), area) # parses the string into an integer\n",
    "\t\tpush!(elvesArea, areaInt)\n",
    "\tend\n",
    "\n",
    "\tpush!(data, elvesArea)\n",
    "end\n",
    "\n",
    "close(f)"
   ]
  },
  {
   "cell_type": "code",
   "execution_count": 4,
   "metadata": {},
   "outputs": [
    {
     "data": {
      "text/plain": [
       "530"
      ]
     },
     "metadata": {},
     "output_type": "display_data"
    }
   ],
   "source": [
    "# calculates if the one of the pair of elf completes overlap the over\n",
    "function hasCompleteOverlap(elf1, elf2)\n",
    "\tstart1, end1 = elf1\n",
    "\tstart2, end2 = elf2\n",
    "\n",
    "\t# checks if the second is inside the first\n",
    "\tif start1 <= start2 && end2 <= end1\n",
    "\t\treturn true\n",
    "\t# checks if the first is inside the second\n",
    "\telseif start2 <= start1 && end1 <= end2\n",
    "\t\treturn true\n",
    "\tend\n",
    "\t\n",
    "\treturn false\n",
    "end\n",
    "\n",
    "# counts how many pair of the elves have complete overlaps\n",
    "function countCompleteOverlap(data)\n",
    "\tcompleteOverlapCount = 0\n",
    "\n",
    "\tfor elfPair in data\n",
    "\t\telf1, elf2 = elfPair\n",
    "\t\t# if one of the elves completely overlap the keep a running count\n",
    "\t\tif hasCompleteOverlap(elf1, elf2)\n",
    "\t\t\tcompleteOverlapCount += 1\n",
    "\t\tend\n",
    "\tend\n",
    "\t\n",
    "\treturn completeOverlapCount\n",
    "end\n",
    "\n",
    "countCompleteOverlap(data)"
   ]
  },
  {
   "cell_type": "code",
   "execution_count": 3,
   "metadata": {},
   "outputs": [
    {
     "data": {
      "text/plain": [
       "903"
      ]
     },
     "metadata": {},
     "output_type": "display_data"
    }
   ],
   "source": [
    "# calculates partial overlaps and complete overlaps\n",
    "function hasOverlap(elf1, elf2)\n",
    "\tstart1, end1 = elf1\n",
    "\tstart2, end2 = elf2\n",
    "\n",
    "\t# if the first elf's start is within the second's\n",
    "\tif start2 <= start1 && start1 <= end2\n",
    "\t\treturn true\n",
    "\t# if the first elf's end is within the second's\n",
    "\telseif start2 <= end1 && end1 <= end2\n",
    "\t\treturn true\n",
    "\tend\n",
    "\t\n",
    "\t# if the first elf's start and end isn't within the second's the first could still be completely overlaping the second. \n",
    "\t# So, we can just run the complete overlap function to check\n",
    "\treturn hasCompleteOverlap(elf1, elf2)\n",
    "end\n",
    "\n",
    "function countOverlap(data)\n",
    "\toverlapCount = 0\n",
    "\n",
    "\tfor elfPair in data\n",
    "\t\telf1, elf2 = elfPair\n",
    "\t\tif hasOverlap(elf1, elf2)\n",
    "\t\t\toverlapCount += 1\n",
    "\t\tend\n",
    "\tend\n",
    "\t\n",
    "\treturn overlapCount\n",
    "end\n",
    "\n",
    "countOverlap(data)"
   ]
  }
 ],
 "metadata": {
  "kernelspec": {
   "display_name": "Julia 1.8.3",
   "language": "julia",
   "name": "julia-1.8"
  },
  "language_info": {
   "file_extension": ".jl",
   "mimetype": "application/julia",
   "name": "julia",
   "version": "1.8.3"
  },
  "orig_nbformat": 4,
  "vscode": {
   "interpreter": {
    "hash": "98f14b60b85110bc66c9772da0405b407200bb6d71b0a740e464ca8ff301d72b"
   }
  }
 },
 "nbformat": 4,
 "nbformat_minor": 2
}
