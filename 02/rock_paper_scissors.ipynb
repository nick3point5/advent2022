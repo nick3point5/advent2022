{
 "cells": [
  {
   "cell_type": "markdown",
   "metadata": {},
   "source": [
    "https://adventofcode.com/2022/day/2"
   ]
  },
  {
   "cell_type": "code",
   "execution_count": 1,
   "metadata": {},
   "outputs": [],
   "source": [
    "f = open(\"input.txt\", \"r\")\n",
    "\n",
    "data = Array{SubString{String}}[]\n",
    "\n",
    "while ! eof(f)\n",
    "\ts = readline(f)\n",
    "\tround = split(s,\" \") # splitting the string into a 2 element array\n",
    "\tpush!(data, round)\n",
    "end\n",
    "\n",
    "close(f)\n"
   ]
  },
  {
   "cell_type": "code",
   "execution_count": 2,
   "metadata": {},
   "outputs": [
    {
     "name": "stdout",
     "output_type": "stream",
     "text": [
      "15572\n"
     ]
    }
   ],
   "source": [
    "# calculates the player's score per round\n",
    "function getRoundScore(opponent, player) \n",
    "\troundScore = 0\n",
    "\t# for when the player picks rock\n",
    "\tif player == \"X\"\n",
    "\t\troundScore += 1 # the player will always get 1 point for playing rock\n",
    "\t\tif opponent == \"A\" # player draws and gets 3 additional points\n",
    "\t\t\troundScore += 3\n",
    "\t\telseif opponent == \"C\" # player wins and gets 6 additional points\n",
    "\t\t\troundScore += 6\n",
    "\t\tend\n",
    "\t# etc for if the player picks paper and scissors\n",
    "\telseif player == \"Y\"\n",
    "\t\troundScore += 2\n",
    "\t\tif opponent == \"B\"\n",
    "\t\t\troundScore += 3\n",
    "\t\telseif opponent == \"A\"\n",
    "\t\t\troundScore += 6\n",
    "\t\tend\n",
    "\telseif player == \"Z\"\n",
    "\t\troundScore += 3\n",
    "\t\tif opponent == \"C\"\n",
    "\t\t\troundScore += 3\n",
    "\t\telseif opponent == \"B\"\n",
    "\t\t\troundScore += 6\n",
    "\t\tend\n",
    "\tend\n",
    "\n",
    "\treturn roundScore\n",
    "end\n",
    "\n",
    "function getPlayerResult(data)\n",
    "\tscore = 0\n",
    "\tfor round in data\n",
    "\t\topponent = round[1] # the first element is the opponents choice\n",
    "\t\tplayer = round[2] # the second element is the player choice\n",
    "\t\tscore += getRoundScore(opponent, player) # add the points from the round of the running total\n",
    "\tend\n",
    "end\n",
    "\n",
    "getPlayerResult(data)"
   ]
  },
  {
   "cell_type": "code",
   "execution_count": 3,
   "metadata": {},
   "outputs": [
    {
     "name": "stdout",
     "output_type": "stream",
     "text": [
      "16098\n"
     ]
    }
   ],
   "source": [
    "# calculates what the player should be from the opponent and desired result\n",
    "function getPlayer(opponent, result)\n",
    "\t# calculates what the player should be to win\n",
    "\tfunction win(opponent)\n",
    "\t\tif opponent == \"A\"\n",
    "\t\t\treturn \"Y\"\n",
    "\t\telseif opponent == \"B\"\n",
    "\t\t\treturn \"Z\"\n",
    "\t\telseif opponent == \"C\"\n",
    "\t\t\treturn \"X\"\n",
    "\t\tend\n",
    "\tend\n",
    "\t\n",
    "\tfunction lose(opponent)\n",
    "\t\tif opponent == \"A\"\n",
    "\t\t\treturn \"Z\"\n",
    "\t\telseif opponent == \"B\"\n",
    "\t\t\treturn \"X\"\n",
    "\t\telseif opponent == \"C\"\n",
    "\t\t\treturn \"Y\"\n",
    "\t\tend\n",
    "\tend\n",
    "\t\n",
    "\tfunction draw(opponent)\n",
    "\t\tif opponent == \"A\"\n",
    "\t\t\treturn \"X\"\n",
    "\t\telseif opponent == \"B\"\n",
    "\t\t\treturn \"Y\"\n",
    "\t\telseif opponent == \"C\"\n",
    "\t\t\treturn \"Z\"\n",
    "\t\tend\n",
    "\tend\n",
    "\n",
    "\t# call the approiate function based on the desired result\n",
    "\tif result == \"X\"\n",
    "\t\treturn lose(opponent)\n",
    "\telseif result == \"Y\"\n",
    "\t\treturn draw(opponent)\n",
    "\telseif result == \"Z\"\n",
    "\t\treturn win(opponent)\n",
    "\tend\n",
    "\n",
    "end\n",
    "\n",
    "getPlayerResult2(data)\n",
    "\tscore = 0\n",
    "\n",
    "\tfor round in data\n",
    "\t\topponent = round[1]\n",
    "\t\tresult = round[2] # the second element is now the result we want\n",
    "\t\tplayer = getPlayer(opponent, result)\n",
    "\t\tscore += getRoundScore(opponent, player)\n",
    "\tend\n",
    "end\n",
    "\n",
    "getPlayerResult2(data)"
   ]
  }
 ],
 "metadata": {
  "kernelspec": {
   "display_name": "Julia 1.8.3",
   "language": "julia",
   "name": "julia-1.8"
  },
  "language_info": {
   "file_extension": ".jl",
   "mimetype": "application/julia",
   "name": "julia",
   "version": "1.8.3"
  },
  "orig_nbformat": 4
 },
 "nbformat": 4,
 "nbformat_minor": 2
}
