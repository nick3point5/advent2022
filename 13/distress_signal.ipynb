{
 "cells": [
  {
   "attachments": {},
   "cell_type": "markdown",
   "metadata": {},
   "source": [
    "https://adventofcode.com/2022/day/13"
   ]
  },
  {
   "cell_type": "code",
   "execution_count": 1,
   "metadata": {},
   "outputs": [],
   "source": [
    "f = open(\"input.txt\", \"r\")\n",
    "\n",
    "s = read(f, String)\n",
    "\n",
    "data = s\n",
    "\n",
    "close(f)\n"
   ]
  },
  {
   "cell_type": "code",
   "execution_count": 2,
   "metadata": {},
   "outputs": [
    {
     "data": {
      "text/plain": [
       "5623"
      ]
     },
     "metadata": {},
     "output_type": "display_data"
    }
   ],
   "source": [
    "# turns the input data into an array of pairs an array\n",
    "function getData(s)\n",
    "\tdata = []\n",
    "\tpairData = split(s,\"\\n\\n\")\n",
    "\n",
    "\tfor pair in pairData\n",
    "\t\tleft_s, right_s =  split(pair,\"\\n\")\n",
    "\t\tleftData = left_s |> Meta.parse |> eval\n",
    "\t\trightData = right_s |> Meta.parse |> eval\n",
    "\t\tpush!(data,(leftData, rightData))\n",
    "\tend\n",
    "\n",
    "\treturn data\n",
    "end\n",
    "\n",
    "# calculates the sum of the indexes of the correctly ordered pair in the data\n",
    "function getCorrectSum(data)\n",
    "\tdata = getData(data)\n",
    "\tresult = []\n",
    "\n",
    "\tfor i = 1:length(data)\n",
    "\t\tleft, right = data[i]\n",
    "\t\t# if left and right are in the correct order add their indexes to the result array\n",
    "\t\tcompare(left, right) && push!(result,  i)\n",
    "\tend\n",
    "\n",
    "\treturn sum(result)\n",
    "end\n",
    "\n",
    "# using multiple dispatch evaluate or convert the left and right until it can be evaluated\n",
    "compare(left::Int, right::Int) = left < right\n",
    "compare(left::Vector, right::Int) = compare(left,[right])\n",
    "compare(left::Int, right::Vector) = compare([left],right)\n",
    "function compare(left::Vector, right::Vector)\n",
    "\tisempty(left) && return true\n",
    "\tisempty(right) && return false\n",
    "\n",
    "\tn = length(left) < length(right) ? length(left) : length(right)\n",
    "\n",
    "\tfor i = 1:n\n",
    "\t\tleft_element = left[i]\n",
    "\t\tright_element = right[i]\n",
    "\n",
    "\t\tleft_element == right_element && continue\n",
    "\n",
    "\t\tif compare(left_element, right_element) \n",
    "\t\t\treturn true\n",
    "\t\telse\n",
    "\t\t\treturn false\n",
    "\t\tend\n",
    "\tend\n",
    "\n",
    "\treturn length(left) <= length(right)\n",
    "end\n",
    "\n",
    "\n",
    "getCorrectSum(data)"
   ]
  },
  {
   "cell_type": "code",
   "execution_count": 3,
   "metadata": {},
   "outputs": [
    {
     "data": {
      "text/plain": [
       "20570"
      ]
     },
     "metadata": {},
     "output_type": "display_data"
    }
   ],
   "source": [
    "# calculations the signal from the data\n",
    "function getSignal(data)\n",
    "\tdata = getData(data)\n",
    "\tarray_1D = []\n",
    "\t# spreads the pair data into a 1D array\n",
    "\tfor pair in data\n",
    "\t\tappend!(array_1D, pair)\n",
    "\tend\n",
    "\t# adds [[[2]], [[6]]] to the array_1D\n",
    "\tappend!(array_1D, [[[2]], [[6]]])\n",
    "\t# sorts the array based on the compare function\n",
    "\tsort!(array_1D, lt=compare)\n",
    "\t# finds [[2]] index\n",
    "\tpacket_1 = findfirst(==([[2]]), array_1D)\n",
    "\t# finds [[6]] index\n",
    "\tpacket_2 = findfirst(==([[6]]), array_1D)\n",
    "\n",
    "\treturn packet_1 * packet_2\n",
    "end\n",
    "\n",
    "getSignal(data)"
   ]
  }
 ],
 "metadata": {
  "kernelspec": {
   "display_name": "Julia 1.8.3",
   "language": "julia",
   "name": "julia-1.8"
  },
  "language_info": {
   "file_extension": ".jl",
   "mimetype": "application/julia",
   "name": "julia",
   "version": "1.8.3"
  },
  "orig_nbformat": 4,
  "vscode": {
   "interpreter": {
    "hash": "98f14b60b85110bc66c9772da0405b407200bb6d71b0a740e464ca8ff301d72b"
   }
  }
 },
 "nbformat": 4,
 "nbformat_minor": 2
}
