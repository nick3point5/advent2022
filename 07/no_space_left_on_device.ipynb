{
 "cells": [
  {
   "cell_type": "markdown",
   "metadata": {},
   "source": [
    "https://adventofcode.com/2022/day/7"
   ]
  },
  {
   "cell_type": "code",
   "execution_count": 1,
   "metadata": {},
   "outputs": [],
   "source": [
    "f = open(\"input.txt\", \"r\")\n",
    "\n",
    "data = []\n",
    "\n",
    "while ! eof(f)\n",
    "\ts = readline(f)\n",
    "\t\n",
    "\t# push each line in data array\n",
    "\tpush!(data, s)\n",
    "end\n",
    "\n",
    "close(f)"
   ]
  },
  {
   "cell_type": "code",
   "execution_count": 2,
   "metadata": {},
   "outputs": [
    {
     "data": {
      "text/plain": [
       "1182909"
      ]
     },
     "execution_count": 2,
     "metadata": {},
     "output_type": "execute_result"
    }
   ],
   "source": [
    "# make an object class (struct) that contains the properties \"name\", \"size\", \"children\", and \"parent\"\n",
    "# note that children and parent are members of the struct\n",
    "mutable struct Directory\n",
    "\tname::String\n",
    "\tsize::Int\n",
    "\tchildren::Array{Directory}\n",
    "\tparent::Union{Directory,Nothing}\n",
    "end\n",
    "\n",
    "# creates a data structure mirroring the file system\n",
    "function generateDirectories(data)\n",
    "\t# array of all directories\n",
    "\tdirectories = Directory[]\n",
    "\n",
    "\t# creates a root directory to start with\n",
    "\tparent = nothing\n",
    "\troot = Directory(\"root\", 0, Directory[], nothing)\n",
    "\tcurrent = root\n",
    "\n",
    "\t# loops through each log in the data\n",
    "\tfor log in data\n",
    "\t\t# if the log contains \"$ cd\" we are changing our directory\n",
    "\t\tif match(r\"\\$ cd\", log) != nothing\n",
    "\n",
    "\t\t\t# remove the \"$ cd \" returning the name of the directory\n",
    "\t\t\tname = replace(log,\"\\$ cd \"=>\"\")\n",
    "\n",
    "\t\t\t# if name \"..\" we are moving out the directory to the parent\n",
    "\t\t\tif name == \"..\"\n",
    "\t\t\t\tcurrent = parent\n",
    "\t\t\t\tparent = current.parent\n",
    "\t\t\telse\n",
    "\t\t\t\t# if name isn't \"..\" we are in a new directory and create one accordingly\n",
    "\t\t\t\tparent = current\n",
    "\t\t\t\tcurrent = Directory(name, 0, Directory[], parent)\n",
    "\n",
    "\t\t\t\t# update the parent's children array with this child\n",
    "\t\t\t\tpush!(parent.children, current)\n",
    "\t\t\t\t# place the new directory in the full list of directories\n",
    "\t\t\t\tpush!(directories, current)\n",
    "\t\t\tend\n",
    "\t\tend\n",
    "\n",
    "\t\t# if the log has numbers it's a file\n",
    "\t\tif match(r\"\\d+\", log) != nothing\n",
    "\t\t\t# use regex to parse the size number of the file\n",
    "\t\t\tfile_size = parse(Int,match(r\"\\d+\", log).match)\n",
    "\n",
    "\t\t\t# add the size to the current directory\n",
    "\t\t\tcurrent.size += file_size\n",
    "\n",
    "\t\t\t# get the parent of the current directory\n",
    "\t\t\tsuper_directory = current.parent\n",
    "\n",
    "\t\t\t# add the file size to all the parent directories until the root\n",
    "\t\t\twhile super_directory.parent != nothing\n",
    "\t\t\t\tsuper_directory.size += file_size\n",
    "\t\t\t\tsuper_directory = super_directory.parent\n",
    "\t\t\tend\n",
    "\t\tend\n",
    "\tend\n",
    "\n",
    "\treturn directories\n",
    "end\n",
    "\n",
    "# gets the sum of all directories over 100000\n",
    "function sum100000(data)\n",
    "\tdirectories = generateDirectories(data)\n",
    "\tsum = 0\n",
    "\tfor directory in directories\n",
    "\t\tsize = directory.size\n",
    "\t\tif size <= 100000\n",
    "\t\t\tsum += size\n",
    "\t\tend\n",
    "\tend\n",
    "\n",
    "\treturn sum\n",
    "end\n",
    "\n",
    "sum100000(data)"
   ]
  },
  {
   "cell_type": "code",
   "execution_count": 3,
   "metadata": {},
   "outputs": [
    {
     "data": {
      "text/plain": [
       "2832508"
      ]
     },
     "execution_count": 3,
     "metadata": {},
     "output_type": "execute_result"
    }
   ],
   "source": [
    "# finds the size of the directory needing to be deleted\n",
    "function findDeleteDirectorySize(data)\n",
    "\ttotal_space = 70000000\n",
    "\tupdate_size = 30000000\n",
    "\t# creates the directories\n",
    "\tdirectories = generateDirectories(data)\n",
    "\n",
    "\t# sorts the directories by size smallest -> biggest\n",
    "\tsorted_directories = sort!(directories, by = directory -> directory.size)\n",
    "\n",
    "\t# calculates free space of device (the last directory is the \"/\" which has total use space)\n",
    "\tfree_space = total_space - sorted_directories[end].size\n",
    "\n",
    "\t# calculates the minimum size of directory to be deleted\n",
    "\tmin_size_directory = update_size - free_space\n",
    "\n",
    "\t# loops and find the first directory that is greater than the minimum size\n",
    "\tfor directory in sorted_directories\n",
    "\t\tif directory.size > min_size_directory\n",
    "\t\t\treturn directory.size\n",
    "\t\tend\n",
    "\tend\n",
    "end\n",
    "\n",
    "findDeleteDirectorySize(data)"
   ]
  }
 ],
 "metadata": {
  "kernelspec": {
   "display_name": "Julia 1.8.3",
   "language": "julia",
   "name": "julia-1.8"
  },
  "language_info": {
   "file_extension": ".jl",
   "mimetype": "application/julia",
   "name": "julia",
   "version": "1.8.3"
  },
  "orig_nbformat": 4,
  "vscode": {
   "interpreter": {
    "hash": "c261aea317cc0286b3b3261fbba9abdec21eaa57589985bb7a274bf54d6cc0a7"
   }
  }
 },
 "nbformat": 4,
 "nbformat_minor": 2
}
