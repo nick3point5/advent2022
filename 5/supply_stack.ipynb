{
 "cells": [
  {
   "cell_type": "code",
   "execution_count": 1,
   "metadata": {},
   "outputs": [],
   "source": [
    "f = open(\"input.txt\", \"r\")\n",
    "\n",
    "# gets the initial state of the boxes\n",
    "function initBoxData(f)\n",
    "\tline = readline(f) # gets the first line\n",
    "\tseek(f, 0) # move the io stream to the start of the file\n",
    "\n",
    "\t# calculates how many columns of boxes from the length of the first line\n",
    "\tboxDataSize = Int(ceil(length(line)/4))\n",
    "\n",
    "\tboxData = Array{Char}[]\n",
    "\n",
    "\tfor i = 1:boxDataSize\n",
    "\t\tpush!(boxData,[])\n",
    "\tend\n",
    "\n",
    "\twhile ! eof(f)\n",
    "\t\tline = readline(f)\n",
    "\t\tstackIndex = 1\n",
    "\n",
    "\t\t# looping through the columns of boxes (in the string the pattern is 2, 6, 10...)\n",
    "\t\t# the loop start at 2 and increases by 4 until the end of the line\n",
    "\t\tfor i = 2:4:length(line)\n",
    "\t\t\tbox = line[i] # the character the box is label\n",
    "\n",
    "\t\t\t# if there isn't a blank space put that box into the boxData\n",
    "\t\t\tif box != ' '\n",
    "\t\t\t\tpush!(boxData[stackIndex], box)\n",
    "\t\t\tend\n",
    "\n",
    "\t\t\tstackIndex += 1\n",
    "\t\t\n",
    "\t\tend\n",
    "\n",
    "\t\t# the blank line is the end of the initial state of the boxes\n",
    "\t\tif line == \"\"\n",
    "\t\t\tbreak\n",
    "\t\tend\n",
    "\tend\n",
    "\n",
    "\treturn boxData\n",
    "\n",
    "end\n",
    "\n",
    "# gets the move instructions\n",
    "function initMoveData(f)\n",
    "\tmoveData = Array{Int}[]\n",
    "\twhile ! eof(f)\n",
    "\t\tline = readline(f)\n",
    "\t\tdata = split(line,\" \") # separates the string by spaces\n",
    "\t\tinstruction = Int[]\n",
    "\t\t# every second element is the integers we store into the moveData as instructions\n",
    "\t\tfor i = 2:2:length(data)\n",
    "\t\t\tnum = parse(Int,data[i])\n",
    "\t\t\tpush!(instruction, num)\n",
    "\t\tend\n",
    "\t\tpush!(moveData, instruction)\n",
    "\tend\n",
    "\n",
    "\treturn moveData\n",
    "end\n",
    "\n",
    "# gets the data from text file\n",
    "boxData = initBoxData(f)\n",
    "moveData = initMoveData(f)\n",
    "\n",
    "close(f)\n"
   ]
  },
  {
   "cell_type": "code",
   "execution_count": 2,
   "metadata": {},
   "outputs": [
    {
     "data": {
      "text/plain": [
       "\"JRVNHHCSJ\""
      ]
     },
     "metadata": {},
     "output_type": "display_data"
    }
   ],
   "source": [
    "# calculates what the boxes state will be after moving instructions\n",
    "function move(boxData, instruction)\n",
    "\tcount, from, to = instruction\n",
    "\n",
    "\tcargo = Char[]\n",
    "\n",
    "\t# removes the count of boxes from column based on the instructions\n",
    "\tcargo = splice!(boxData[from], 1:count)\n",
    "\n",
    "\t# removing boxes one by one reverse the order they are place\n",
    "\treverse!(cargo)\n",
    "\n",
    "\t# place the box to the column based on the instructions\n",
    "\tprepend!(boxData[to], cargo)\n",
    "end\n",
    "\n",
    "# calculates the final state of the boxes from all the instructions\n",
    "function getFinalBoxes(boxData, moveData)\n",
    "\t# loop through the instructions and moving the boxes accordingly\n",
    "\tfor instruction in moveData\n",
    "\t\tmove(boxData, instruction)\n",
    "\tend\n",
    "\n",
    "\treturn boxData\n",
    "end\n",
    "\n",
    "# calculates the top of all the boxes as a string\n",
    "function getFinalTopBoxes(boxData, moveData)\n",
    "\tboxData = deepcopy(boxData)\n",
    "\tmoveData = deepcopy(moveData)\n",
    "\n",
    "\t# gets the final state of the boxes\n",
    "\tboxData = getFinalBoxes(boxData, moveData)\n",
    "\tresult = Char[]\n",
    "\n",
    "\t# loops through the columns adding the label of the top box in an array\n",
    "\tfor boxStack in boxData\n",
    "\t\ttopbox = boxStack[1]\n",
    "\t\tpush!(result, topbox)\n",
    "\tend\n",
    "\n",
    "\t# return the array as a string\n",
    "\treturn String(result)\n",
    "end\n",
    "\n",
    "\n",
    "getFinalTopBoxes(boxData, moveData)\n"
   ]
  },
  {
   "cell_type": "code",
   "execution_count": 3,
   "metadata": {},
   "outputs": [
    {
     "data": {
      "text/plain": [
       "\"GNFBSBJLH\""
      ]
     },
     "metadata": {},
     "output_type": "display_data"
    }
   ],
   "source": [
    "# moves the boxes but this time the boxes order is not reverse when moving\n",
    "# everything else is the same\n",
    "function move9001(boxData, instruction)\n",
    "\tcount, from, to = instruction\n",
    "\n",
    "\tcargo = Char[]\n",
    "\n",
    "\tcargo = splice!(boxData[from], 1:count)\n",
    "\n",
    "\tprepend!(boxData[to], cargo)\n",
    "end\n",
    "\n",
    "function getFinalBoxes(boxData, moveData)\n",
    "\tfor instruction in moveData\n",
    "\t\tmove9001(boxData, instruction)\n",
    "\tend\n",
    "\n",
    "\treturn boxData\n",
    "end\n",
    "\n",
    "function getFinalTopBoxes(boxData, moveData)\n",
    "\tboxData = deepcopy(boxData)\n",
    "\tmoveData = deepcopy(moveData)\n",
    "\tgetFinalBoxes(boxData, moveData)\n",
    "\tresult = Char[]\n",
    "\n",
    "\tfor boxStack in boxData\n",
    "\t\ttopbox = boxStack[1]\n",
    "\t\tpush!(result, topbox)\n",
    "\tend\n",
    "\n",
    "\treturn String(result)\n",
    "end\n",
    "\n",
    "getFinalTopBoxes(boxData, moveData)\n"
   ]
  }
 ],
 "metadata": {
  "kernelspec": {
   "display_name": "Julia 1.8.3",
   "language": "julia",
   "name": "julia-1.8"
  },
  "language_info": {
   "file_extension": ".jl",
   "mimetype": "application/julia",
   "name": "julia",
   "version": "1.8.3"
  },
  "orig_nbformat": 4,
  "vscode": {
   "interpreter": {
    "hash": "98f14b60b85110bc66c9772da0405b407200bb6d71b0a740e464ca8ff301d72b"
   }
  }
 },
 "nbformat": 4,
 "nbformat_minor": 2
}
